{
 "cells": [
  {
   "cell_type": "markdown",
   "metadata": {},
   "source": [
    "Using CasJobs to query SDSS data"
   ]
  },
  {
   "cell_type": "code",
   "execution_count": 3,
   "metadata": {},
   "outputs": [
    {
     "name": "stdout",
     "output_type": "stream",
     "text": [
      "token1 = 1c35ddee220c443a9bd55b3948dc1b98\n",
      "userName =  snegussie id =  3bd62d3d73654e318ecd7c375a40e27e ident =  --ident=\n"
     ]
    }
   ],
   "source": [
    "import SciServer\n",
    "from SciServer import Authentication, LoginPortal, Config, CasJobs, SkyQuery, SciDrive, SkyServer, Files, Jobs\n",
    "import os;\n",
    "import pandas;\n",
    "import sys;\n",
    "import json;\n",
    "from io import StringIO\n",
    "from io import BytesIO\n",
    "#from PIL import Image\n",
    "import numpy as np\n",
    "import matplotlib.pyplot as plt\n",
    "\n",
    "# Define login Name and password before running these examples\n",
    "Authentication_loginName = 'snegussie'\n",
    "Authentication_loginPassword = 'kokjed-4sogvy-bIhxyd'\n",
    "\n",
    "Authentication_login_sharedWithName = '***'\n",
    "Authentication_login_sharedWithPassword = '***'\n",
    "\n",
    "#getting token\n",
    "token1 = Authentication.login(Authentication_loginName, Authentication_loginPassword)\n",
    "print(\"token1 = \" + token1)\n",
    "user = Authentication.getKeystoneUserWithToken(token1)\n",
    "iden = Authentication.identArgIdentifier()\n",
    "print(\"userName = \", user.userName, \"id = \", user.id, \"ident = \", iden)\n"
   ]
  },
  {
   "cell_type": "code",
   "execution_count": 4,
   "metadata": {},
   "outputs": [],
   "source": [
    "CasJobs_TestDatabase = \"MyDB\"\n",
    "CasJobs_TestQuery = \"select 4 as Column1, 5 as Column2 \"\n",
    "CasJobs_TestTableName1 = \"MyNewtable1\"\n",
    "CasJobs_TestTableName2 = \"MyNewtable2\"\n",
    "CasJobs_TestTableCSV = u\"Column1,Column2\\n4,5\\n\"\n",
    "CasJobs_TestFitsFile = \"SciScriptTestFile.fits\"\n",
    "CasJobs_TestCSVFile = \"SciScriptTestFile.csv\""
   ]
  },
  {
   "cell_type": "code",
   "execution_count": 5,
   "metadata": {},
   "outputs": [
    {
     "name": "stdout",
     "output_type": "stream",
     "text": [
      "wsid_1864490916\n"
     ]
    }
   ],
   "source": [
    "#get user schema info\n",
    "\n",
    "casJobsId = CasJobs.getSchemaName()\n",
    "print(casJobsId)"
   ]
  },
  {
   "cell_type": "markdown",
   "metadata": {},
   "source": [
    "Here is to get an image\n"
   ]
  },
  {
   "cell_type": "code",
   "execution_count": 6,
   "metadata": {},
   "outputs": [
    {
     "ename": "NameError",
     "evalue": "name 'SkyServer_DataRelease' is not defined",
     "output_type": "error",
     "traceback": [
      "\u001b[0;31m---------------------------------------------------------------------------\u001b[0m",
      "\u001b[0;31mNameError\u001b[0m                                 Traceback (most recent call last)",
      "\u001b[1;32m/Users/snegussie/Documents/Negussie Research Folder/SDSS/CasJob/Sara/SDSSquery.ipynb Cell 6'\u001b[0m in \u001b[0;36m<cell line: 3>\u001b[0;34m()\u001b[0m\n\u001b[1;32m      <a href='vscode-notebook-cell:/Users/snegussie/Documents/Negussie%20Research%20Folder/SDSS/CasJob/Sara/SDSSquery.ipynb#ch0000009?line=0'>1</a>\u001b[0m \u001b[39m#get an image cutout\u001b[39;00m\n\u001b[1;32m      <a href='vscode-notebook-cell:/Users/snegussie/Documents/Negussie%20Research%20Folder/SDSS/CasJob/Sara/SDSSquery.ipynb#ch0000009?line=2'>3</a>\u001b[0m img \u001b[39m=\u001b[39m SkyServer\u001b[39m.\u001b[39mgetJpegImgCutout(ra\u001b[39m=\u001b[39m\u001b[39m197.614455642896\u001b[39m, dec\u001b[39m=\u001b[39m\u001b[39m18.438168853724\u001b[39m, width\u001b[39m=\u001b[39m\u001b[39m2\u001b[39m, height\u001b[39m=\u001b[39m\u001b[39m2\u001b[39m, scale\u001b[39m=\u001b[39m\u001b[39m0.4\u001b[39m, \n\u001b[0;32m----> <a href='vscode-notebook-cell:/Users/snegussie/Documents/Negussie%20Research%20Folder/SDSS/CasJob/Sara/SDSSquery.ipynb#ch0000009?line=3'>4</a>\u001b[0m                                  dataRelease\u001b[39m=\u001b[39mSkyServer_DataRelease,opt\u001b[39m=\u001b[39m\u001b[39m\"\u001b[39m\u001b[39mOG\u001b[39m\u001b[39m\"\u001b[39m,\n\u001b[1;32m      <a href='vscode-notebook-cell:/Users/snegussie/Documents/Negussie%20Research%20Folder/SDSS/CasJob/Sara/SDSSquery.ipynb#ch0000009?line=4'>5</a>\u001b[0m                                  query\u001b[39m=\u001b[39m\u001b[39m\"\u001b[39m\u001b[39mSELECT TOP 100 p.objID, p.ra, p.dec, p.r FROM fGetObjFromRectEq(197.6,18.4,197.7,18.5) n, PhotoPrimary p WHERE n.objID=p.objID\u001b[39m\u001b[39m\"\u001b[39m)\n\u001b[1;32m      <a href='vscode-notebook-cell:/Users/snegussie/Documents/Negussie%20Research%20Folder/SDSS/CasJob/Sara/SDSSquery.ipynb#ch0000009?line=5'>6</a>\u001b[0m plt\u001b[39m.\u001b[39mimshow(img)\n",
      "\u001b[0;31mNameError\u001b[0m: name 'SkyServer_DataRelease' is not defined"
     ]
    }
   ],
   "source": [
    "#get an image cutout\n",
    "\n",
    "img = SkyServer.getJpegImgCutout(ra=197.614455642896, dec=18.438168853724, width=2, height=2, scale=0.4, \n",
    "                                 dataRelease=SkyServer_DataRelease,opt=\"OG\",\n",
    "                                 query=\"SELECT TOP 100 p.objID, p.ra, p.dec, p.r FROM fGetObjFromRectEq(197.6,18.4,197.7,18.5) n, PhotoPrimary p WHERE n.objID=p.objID\")\n",
    "plt.imshow(img)"
   ]
  },
  {
   "cell_type": "code",
   "execution_count": null,
   "metadata": {},
   "outputs": [],
   "source": []
  }
 ],
 "metadata": {
  "kernelspec": {
   "display_name": "Python 3.8.2 64-bit",
   "language": "python",
   "name": "python3"
  },
  "language_info": {
   "codemirror_mode": {
    "name": "ipython",
    "version": 3
   },
   "file_extension": ".py",
   "mimetype": "text/x-python",
   "name": "python",
   "nbconvert_exporter": "python",
   "pygments_lexer": "ipython3",
   "version": "3.8.2"
  },
  "orig_nbformat": 4,
  "vscode": {
   "interpreter": {
    "hash": "31f2aee4e71d21fbe5cf8b01ff0e069b9275f58929596ceb00d14d90e3e16cd6"
   }
  }
 },
 "nbformat": 4,
 "nbformat_minor": 2
}
