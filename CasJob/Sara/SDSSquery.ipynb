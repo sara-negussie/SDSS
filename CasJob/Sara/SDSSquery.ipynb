{
 "cells": [
  {
   "cell_type": "markdown",
   "metadata": {},
   "source": [
    "Using CasJobs to query SDSS data"
   ]
  },
  {
   "cell_type": "code",
   "execution_count": 3,
   "metadata": {},
   "outputs": [
    {
     "name": "stdout",
     "output_type": "stream",
     "text": [
      "token1 = 1c35ddee220c443a9bd55b3948dc1b98\n",
      "userName =  snegussie id =  3bd62d3d73654e318ecd7c375a40e27e ident =  --ident=\n"
     ]
    }
   ],
   "source": [
    "import SciServer\n",
    "from SciServer import Authentication, LoginPortal, Config, CasJobs, SkyQuery, SciDrive, SkyServer, Files, Jobs\n",
    "import os;\n",
    "import pandas;\n",
    "import sys;\n",
    "import json;\n",
    "from io import StringIO\n",
    "from io import BytesIO\n",
    "#from PIL import Image\n",
    "import numpy as np\n",
    "import matplotlib.pyplot as plt\n",
    "\n",
    "# Define login Name and password before running these examples\n",
    "Authentication_loginName = 'snegussie'\n",
    "Authentication_loginPassword = 'kokjed-4sogvy-bIhxyd'\n",
    "\n",
    "Authentication_login_sharedWithName = '***'\n",
    "Authentication_login_sharedWithPassword = '***'\n",
    "\n",
    "#getting token\n",
    "token1 = Authentication.login(Authentication_loginName, Authentication_loginPassword)\n",
    "print(\"token1 = \" + token1)\n",
    "user = Authentication.getKeystoneUserWithToken(token1)\n",
    "iden = Authentication.identArgIdentifier()\n",
    "print(\"userName = \", user.userName, \"id = \", user.id, \"ident = \", iden)\n"
   ]
  },
  {
   "cell_type": "code",
   "execution_count": 7,
   "metadata": {},
   "outputs": [
    {
     "name": "stdout",
     "output_type": "stream",
     "text": [
      "wsid_1864490916\n",
      "[{'Name': 'QuickResults', 'Rows': 2, 'Size': 136, 'Date': 637940143472400000}]\n",
      "   Column1  Column2\n",
      "0        4        5\n"
     ]
    }
   ],
   "source": [
    "#Defining databse context and query, and other variables\n",
    "CasJobs_TestDatabase = \"MyDB\"\n",
    "CasJobs_TestQuery = \"select 4 as Column1, 5 as Column2 \"\n",
    "CasJobs_TestTableName1 = \"MyNewtable1\"\n",
    "CasJobs_TestTableName2 = \"MyNewtable2\"\n",
    "CasJobs_TestTableCSV = u\"Column1,Column2\\n4,5\\n\"\n",
    "CasJobs_TestFitsFile = \"SciScriptTestFile.fits\"\n",
    "CasJobs_TestCSVFile = \"SciScriptTestFile.csv\"\n",
    "\n",
    "#get user schema info\n",
    "casJobsId = CasJobs.getSchemaName()\n",
    "print(casJobsId)\n",
    "\n",
    "#get info about tables inside MyDB database context:\n",
    "tables = CasJobs.getTables(context=\"MyDB\")\n",
    "print(tables)\n",
    "\n",
    "#execute a quick SQL query:\n",
    "df = CasJobs.executeQuery(sql=CasJobs_TestQuery, context=CasJobs_TestDatabase, format=\"pandas\")\n",
    "print(df)\n"
   ]
  },
  {
   "cell_type": "code",
   "execution_count": 8,
   "metadata": {},
   "outputs": [
    {
     "name": "stdout",
     "output_type": "stream",
     "text": [
      "56195932\n",
      "{'JobID': 56195932, 'Rows': 1, 'WebServicesID': 1864490916, 'TimeSubmit': '2022-07-22T12:58:59.967', 'TimeStart': '2022-07-22T12:59:05.29', 'TimeEnd': '2022-07-22T12:59:05.367', 'SendEmail': 0, 'Status': 5, 'AutoComplete': 0, 'Estimate': 500, 'TaskName': 'SciScript-Python.CasJobs.submitJob', 'OutputLoc': '', 'HostIP': 'SQL001DBHost   ', 'Message': 'Query Complete', 'Query': 'select 4 as Column1, 5 as Column2  into MyDB.MyNewtable1', 'ModifiedQuery': 'select 4 as Column1, 5 as Column2  /*CASJOBS_INTO_TABLE:[mydbsql].mydb_1864490916.webuser.MyNewtable1*/', 'Target': 'MyDB', 'OutputType': 'QUERY', 'Params': '{\\r\\n  \"token\": \"1c35ddee220c443a9bd55b3948dc1b98\"\\r\\n}', 'Created_Table': 'MyNewtable1'}\n"
     ]
    }
   ],
   "source": [
    "#submit a job, which inserts the query results into a table in the MyDB database context. \n",
    "#Wait until the job is done and get its status.\n",
    "jobId = CasJobs.submitJob(sql=CasJobs_TestQuery + \" into MyDB.\" + CasJobs_TestTableName1, context=\"MyDB\")\n",
    "jobDescription = CasJobs.waitForJob(jobId=jobId, verbose=False)\n",
    "print(jobId)\n",
    "print(jobDescription)"
   ]
  },
  {
   "cell_type": "code",
   "execution_count": 10,
   "metadata": {},
   "outputs": [
    {
     "name": "stdout",
     "output_type": "stream",
     "text": [
      "True\n",
      "   Column1  Column2\n",
      "0        4        5\n"
     ]
    }
   ],
   "source": [
    "#execute a query and write a local Fits file containing the query results:\n",
    "result = CasJobs.writeFitsFileFromQuery(fileName=CasJobs_TestFitsFile, queryString=CasJobs_TestQuery, context=\"MyDB\")\n",
    "print(result)\n",
    "\n",
    "#get a Pandas dataframe containing the results of a query\n",
    "df = CasJobs.getPandasDataFrameFromQuery(queryString=CasJobs_TestQuery, context=CasJobs_TestDatabase)\n",
    "print(df)"
   ]
  },
  {
   "cell_type": "markdown",
   "metadata": {},
   "source": [
    "Here is to get an image\n"
   ]
  },
  {
   "cell_type": "code",
   "execution_count": 13,
   "metadata": {},
   "outputs": [],
   "source": [
    "#defining sql query and SDSS data relelease:\n",
    "SkyServer_TestQuery = \"select top 1 specobjid, ra, dec from specobj order by specobjid\"\n",
    "SkyServer_DataRelease = \"DR17\""
   ]
  },
  {
   "cell_type": "code",
   "execution_count": 31,
   "metadata": {},
   "outputs": [
    {
     "data": {
      "text/plain": [
       "<matplotlib.image.AxesImage at 0x12684a130>"
      ]
     },
     "execution_count": 31,
     "metadata": {},
     "output_type": "execute_result"
    },
    {
     "data": {
      "image/png": "[encoded data removed]",
      "text/plain": [
       "<Figure size 432x288 with 1 Axes>"
      ]
     },
     "metadata": {
      "needs_background": "light"
     },
     "output_type": "display_data"
    }
   ],
   "source": [
    "#get an image cutout\n",
    "\n",
    "img = SkyServer.getJpegImgCutout(ra=179.689293, dec=-0.454379, width=2, height=2, scale=0.4, \n",
    "                                 dataRelease=SkyServer_DataRelease,#opt=\"OG\", \n",
    "                                 query= \"ObjType: S\")\n",
    "plt.imshow(img)"
   ]
  },
  {
   "cell_type": "code",
   "execution_count": 19,
   "metadata": {},
   "outputs": [
    {
     "name": "stdout",
     "output_type": "stream",
     "text": [
      "                 objid   run  rerun  camcol  field  obj  type          ra  \\\n",
      "0  1237671939804561654  6162    301       3    133  246     3  258.250804   \n",
      "\n",
      "         dec         u        g         r         i         z     Err_u  \\\n",
      "0  64.051445  23.33982  22.3194  21.41105  21.11971  20.84277  0.664019   \n",
      "\n",
      "      Err_g    Err_r     Err_i     Err_z  \n",
      "0  0.116986  0.07641  0.080523  0.238198  \n"
     ]
    }
   ],
   "source": [
    "# do a radial search of objects:\n",
    "#arcmins\n",
    "\n",
    "df = SkyServer.radialSearch(ra=258.25, dec=64.05, radius=0.1, dataRelease=SkyServer_DataRelease)\n",
    "print(df)"
   ]
  },
  {
   "cell_type": "code",
   "execution_count": 22,
   "metadata": {},
   "outputs": [
    {
     "name": "stdout",
     "output_type": "stream",
     "text": [
      "Help on package SciServer:\n",
      "\n",
      "NAME\n",
      "    SciServer\n",
      "\n",
      "DESCRIPTION\n",
      "    This python package provides functions for quick access of SciServer APIs (web services) and tools.\n",
      "    SciServer (http://www.sciserver.org) provides a new online framework for data-intensive scientifc computing in the cloud,\n",
      "    where the motto is to bring the computation close where the data is stored, and allow seamless access and sharing of big data sets within the scientific community.\n",
      "    \n",
      "    Some SciServer tools you can access with this package:\n",
      "    \n",
      "    \n",
      "    * `Login Portal <https://portal.sciserver.org>`_: Single sign-on portal to all SciServer applications.\n",
      "                    Although some tools accept anonymous access, you can use Authentication.login to login and access the tools and your own data and environment (after registering in the Login Portal). If you are running this package in a Jupyter Notebook in the SciServer-Compute environment, the use of Authentication.login is not necessary since it's done automatically.\n",
      "    \n",
      "    * `CasJobs <https://skyserver.sdss.org/CasJobs/>`_: Database storage and querying.\n",
      "                    You can have access big databases, as well as save your data tables in your own database called 'MyDB'. The user can run synchronous or asynchronous SQL queries and get the result back as an R data-frame (using CasJobs.executeQuery or CasJobs.submitJob, respectively). Uploading of CSV files or R data-frames into a database table can be done using CasJobs.uploadCSVToTable and CasJobs.uploadDataFrameToTable, respectively.\n",
      "    \n",
      "    * `SciDrive <https://www.scidrive.org/>`_: Drag-and-drop file storage and sharing.\n",
      "                    You can create directories in SciDrive using SciDrive.createContainer, upload a file to SciDrive using SciDrive.upload, and share its URL with your collaborators by using SciDrive.publicUrl.\n",
      "    \n",
      "    * `SkyServer <https://skyserver.sdss.org/>`_: Access to the SDSS astronomical survey.\n",
      "                    You can query the SDSS database using SkyServer.sqlSearch, run cone searches using SkyServer.radialSearch, or get cutout images from the sky using SkyServer.getJpegImgCutout, between other tasks.\n",
      "    \n",
      "    * `SkyQuery <https://www.voservices.net/skyquery>`_: Cross-match of astronomical source catalogs.\n",
      "                    You can use this scalable database system for uploading your own catalogs and cross-matching them against huge astronomical source catalogs, or even cross-matching huge catalogs against each other!. Use SkyQuery.submitJob to run the cross-match, and use SkyQuery.listAllDatasets, SkyQuery.listDatasetTables and SkyQuery.listTableColumns to browse the catalogs and database schema.\n",
      "    \n",
      "    * `Compute Jobs <https://apps.sciserver.org/compute/jobs>`_: Submission of Jupyter notebooks or shell commands as jobs\n",
      "                    You can execute whole Jupyter notebooks and shell commands as asynchronous batch jobs, as well as synchronous jobs.\n",
      "    \n",
      "    * `SciQuery Jobs <http://apps.sciserver.org/sciquery-ui>`_: Submission of SQL queries.\n",
      "                    You can execute synchronous or s synchronous SQL queries against Postgres and other database backends.\n",
      "    \n",
      "    * `Files <https://apps.sciserver.org/dashboard/files>`_: Interaction with the SciServer file system.\n",
      "                    You can upload, and download data into your own file space in SciServer, as well as share data with your collaborators, between other things.\n",
      "    \n",
      "    \n",
      "    **References**\n",
      "    \n",
      "    * SciServer-Python repository: http://www.github.com/sciserver/SciScript-Python\n",
      "    \n",
      "    * SciServer: http://www.sciserver.org\n",
      "    \n",
      "    \n",
      "    **Maintainer**: Manuchehr Taghizadeh-Popp <mtaghiza@jhu.edu>\n",
      "    \n",
      "    \n",
      "    **Authors**: Gerard Lemson <glemson1@jhu.edu>, Manuchehr Taghizadeh-Popp <mtaghiza@jhu.edu>\n",
      "    \n",
      "    **Version**: sciserver-v2.1.0\n",
      "\n",
      "PACKAGE CONTENTS\n",
      "    Authentication\n",
      "    CasJobs\n",
      "    Config\n",
      "    Dask\n",
      "    Files\n",
      "    Jobs\n",
      "    LoginPortal\n",
      "    SciDrive\n",
      "    SkyQuery\n",
      "    SkyServer\n",
      "\n",
      "AUTHOR\n",
      "    gerard,mtaghiza\n",
      "\n",
      "FILE\n",
      "    /Applications/Xcode.app/Contents/Developer/Library/Frameworks/Python3.framework/Versions/3.8/lib/python3.8/site-packages/SciServer-2.1.0-py3.8.egg/SciServer/__init__.py\n",
      "\n",
      "\n"
     ]
    }
   ],
   "source": [
    "help(SciServer)"
   ]
  },
  {
   "cell_type": "code",
   "execution_count": 25,
   "metadata": {},
   "outputs": [
    {
     "name": "stdout",
     "output_type": "stream",
     "text": [
      "Submitting query:\n",
      " ra=179.689293, dec=-0.454379 \n",
      "u, g, r, i, z, err_u, err_g, err_r, err_i, err_z, petror90_r \n",
      "into mydb.hugetable\n",
      "from galaxy\n",
      "where clean = 1\n",
      "\n",
      "\n"
     ]
    },
    {
     "ename": "Exception",
     "evalue": "Error when submitting a job. Http Response from CasJobs API returned status code 401:\n{\"Error Code\":401,\"Error Type\":\"Unauthorized\",\"Error Message\":\"Authentication failed: Response status code does not indicate success: 500 ().\",\"LogMessageID\":\"25a08fb3-75f8-4420-9f65-ab92705c5f31\"}",
     "output_type": "error",
     "traceback": [
      "\u001b[0;31m---------------------------------------------------------------------------\u001b[0m",
      "\u001b[0;31mException\u001b[0m                                 Traceback (most recent call last)",
      "\u001b[1;32m/Users/snegussie/Documents/Negussie Research Folder/SDSS/CasJob/Sara/SDSSquery.ipynb Cell 11'\u001b[0m in \u001b[0;36m<cell line: 13>\u001b[0;34m()\u001b[0m\n\u001b[1;32m     <a href='vscode-notebook-cell:/Users/snegussie/Documents/Negussie%20Research%20Folder/SDSS/CasJob/Sara/SDSSquery.ipynb#ch0000014?line=9'>10</a>\u001b[0m \u001b[39mprint\u001b[39m(\u001b[39m'\u001b[39m\u001b[39mSubmitting query:\u001b[39m\u001b[39m\\n\u001b[39;00m\u001b[39m'\u001b[39m,verylongquery)\n\u001b[1;32m     <a href='vscode-notebook-cell:/Users/snegussie/Documents/Negussie%20Research%20Folder/SDSS/CasJob/Sara/SDSSquery.ipynb#ch0000014?line=10'>11</a>\u001b[0m \u001b[39mprint\u001b[39m(\u001b[39m'\u001b[39m\u001b[39m\\n\u001b[39;00m\u001b[39m'\u001b[39m)\n\u001b[0;32m---> <a href='vscode-notebook-cell:/Users/snegussie/Documents/Negussie%20Research%20Folder/SDSS/CasJob/Sara/SDSSquery.ipynb#ch0000014?line=12'>13</a>\u001b[0m thisjobid \u001b[39m=\u001b[39m CasJobs\u001b[39m.\u001b[39;49msubmitJob(sql\u001b[39m=\u001b[39;49mverylongquery, context\u001b[39m=\u001b[39;49m\u001b[39m\"\u001b[39;49m\u001b[39mDR14\u001b[39;49m\u001b[39m\"\u001b[39;49m)\n\u001b[1;32m     <a href='vscode-notebook-cell:/Users/snegussie/Documents/Negussie%20Research%20Folder/SDSS/CasJob/Sara/SDSSquery.ipynb#ch0000014?line=14'>15</a>\u001b[0m \u001b[39mprint\u001b[39m(\u001b[39m'\u001b[39m\u001b[39mJob submitted with jobId = \u001b[39m\u001b[39m'\u001b[39m,thisjobid)\n\u001b[1;32m     <a href='vscode-notebook-cell:/Users/snegussie/Documents/Negussie%20Research%20Folder/SDSS/CasJob/Sara/SDSSquery.ipynb#ch0000014?line=15'>16</a>\u001b[0m \u001b[39mprint\u001b[39m(\u001b[39m'\u001b[39m\u001b[39m\\n\u001b[39;00m\u001b[39m'\u001b[39m)\n",
      "File \u001b[0;32m/Applications/Xcode.app/Contents/Developer/Library/Frameworks/Python3.framework/Versions/3.8/lib/python3.8/site-packages/SciServer-2.1.0-py3.8.egg/SciServer/CasJobs.py:210\u001b[0m, in \u001b[0;36msubmitJob\u001b[0;34m(sql, context)\u001b[0m\n\u001b[1;32m    208\u001b[0m     putResponse \u001b[39m=\u001b[39m requests\u001b[39m.\u001b[39mput(QueryUrl,data\u001b[39m=\u001b[39mdata,headers\u001b[39m=\u001b[39mheaders)\n\u001b[1;32m    209\u001b[0m     \u001b[39mif\u001b[39;00m putResponse\u001b[39m.\u001b[39mstatus_code \u001b[39m!=\u001b[39m \u001b[39m200\u001b[39m:\n\u001b[0;32m--> 210\u001b[0m         \u001b[39mraise\u001b[39;00m \u001b[39mException\u001b[39;00m(\u001b[39m\"\u001b[39m\u001b[39mError when submitting a job. Http Response from CasJobs API returned status code \u001b[39m\u001b[39m\"\u001b[39m \u001b[39m+\u001b[39m \u001b[39mstr\u001b[39m(putResponse\u001b[39m.\u001b[39mstatus_code) \u001b[39m+\u001b[39m \u001b[39m\"\u001b[39m\u001b[39m:\u001b[39m\u001b[39m\\n\u001b[39;00m\u001b[39m\"\u001b[39m \u001b[39m+\u001b[39m putResponse\u001b[39m.\u001b[39mcontent\u001b[39m.\u001b[39mdecode());\n\u001b[1;32m    212\u001b[0m     \u001b[39mreturn\u001b[39;00m \u001b[39mint\u001b[39m(putResponse\u001b[39m.\u001b[39mcontent\u001b[39m.\u001b[39mdecode())\n\u001b[1;32m    213\u001b[0m \u001b[39melse\u001b[39;00m:\n",
      "\u001b[0;31mException\u001b[0m: Error when submitting a job. Http Response from CasJobs API returned status code 401:\n{\"Error Code\":401,\"Error Type\":\"Unauthorized\",\"Error Message\":\"Authentication failed: Response status code does not indicate success: 500 ().\",\"LogMessageID\":\"25a08fb3-75f8-4420-9f65-ab92705c5f31\"}"
     ]
    }
   ],
   "source": [
    "bigtablename = 'hugetable'\n",
    "\n",
    "# Example of a longer query: get magnitudes and sizes (Petrosian radii) of one million galaxies\n",
    "verylongquery = 'ra=179.689293, dec=-0.454379 \\n'\n",
    "verylongquery += 'u, g, r, i, z, err_u, err_g, err_r, err_i, err_z, petror90_r \\n'\n",
    "verylongquery += 'into mydb.' + bigtablename + '\\n'\n",
    "verylongquery += 'from galaxy\\n'\n",
    "verylongquery += 'where clean = 1'\n",
    "\n",
    "print('Submitting query:\\n',verylongquery)\n",
    "print('\\n')\n",
    "\n",
    "thisjobid = CasJobs.submitJob(sql=verylongquery, context=\"DR14\")\n",
    "\n",
    "print('Job submitted with jobId = ',thisjobid)\n",
    "print('\\n')\n",
    "\n",
    "waited = CasJobs.waitForJob(jobId=thisjobid)      # waited is a dummy variable; just print wait msg\n",
    "jobDescription = CasJobs.getJobStatus(thisjobid)\n",
    "\n",
    "print('\\n')\n",
    "print('Information about the job:')\n",
    "\n",
    "#pprint(jobDescription)\n",
    "#jobDescriber(jobDescription)"
   ]
  },
  {
   "cell_type": "code",
   "execution_count": null,
   "metadata": {},
   "outputs": [],
   "source": []
  }
 ],
 "metadata": {
  "kernelspec": {
   "display_name": "Python 3.8.2 64-bit",
   "language": "python",
   "name": "python3"
  },
  "language_info": {
   "codemirror_mode": {
    "name": "ipython",
    "version": 3
   },
   "file_extension": ".py",
   "mimetype": "text/x-python",
   "name": "python",
   "nbconvert_exporter": "python",
   "pygments_lexer": "ipython3",
   "version": "3.8.2"
  },
  "orig_nbformat": 4,
  "vscode": {
   "interpreter": {
    "hash": "31f2aee4e71d21fbe5cf8b01ff0e069b9275f58929596ceb00d14d90e3e16cd6"
   }
  }
 },
 "nbformat": 4,
 "nbformat_minor": 2
}
