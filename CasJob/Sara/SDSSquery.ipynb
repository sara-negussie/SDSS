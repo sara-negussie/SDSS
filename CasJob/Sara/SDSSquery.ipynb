{
 "cells": [
  {
   "cell_type": "markdown",
   "metadata": {},
   "source": [
    "Using CasJobs to query SDSS data"
   ]
  },
  {
   "cell_type": "code",
   "execution_count": 153,
   "metadata": {},
   "outputs": [
    {
     "name": "stdout",
     "output_type": "stream",
     "text": [
      "token1 = c2d726dcfa45409bbdf7544636eebe02\n",
      "userName =  snegussie id =  3bd62d3d73654e318ecd7c375a40e27e ident =  --ident=\n"
     ]
    }
   ],
   "source": [
    "import SciServer\n",
    "from SciServer import Authentication, LoginPortal, Config, CasJobs, SkyQuery, SciDrive, SkyServer, Files, Jobs\n",
    "import os\n",
    "import pandas as pd\n",
    "import sys\n",
    "import json\n",
    "import functions\n",
    "\n",
    "from io import StringIO\n",
    "from io import BytesIO\n",
    "import time\n",
    "from datetime import datetime, timedelta     # date and timestamp tools\n",
    "from pprint import pprint\n",
    "#from PIL import Image\n",
    "import numpy as np\n",
    "import matplotlib.pyplot as plt\n",
    "\n",
    "# Define login Name and password before running these examples\n",
    "Authentication_loginName = 'snegussie'\n",
    "Authentication_loginPassword = 'kokjed-4sogvy-bIhxyd'\n",
    "\n",
    "Authentication_login_sharedWithName = '***'\n",
    "Authentication_login_sharedWithPassword = '***'\n",
    "\n",
    "#getting token\n",
    "token1 = Authentication.login(Authentication_loginName, Authentication_loginPassword)\n",
    "print(\"token1 = \" + token1)\n",
    "user = Authentication.getKeystoneUserWithToken(token1)\n",
    "iden = Authentication.identArgIdentifier()\n",
    "print(\"userName = \", user.userName, \"id = \", user.id, \"ident = \", iden)\n"
   ]
  },
  {
   "cell_type": "code",
   "execution_count": 154,
   "metadata": {},
   "outputs": [
    {
     "name": "stdout",
     "output_type": "stream",
     "text": [
      "[{'Name': 'QuickResults', 'Rows': 2, 'Size': 136, 'Date': 637940143472400000}, {'Name': 'MyNewtable1', 'Rows': 1, 'Size': 72, 'Date': 637940915453200000}, {'Name': 'hugetable', 'Rows': 1000000, 'Size': 73480, 'Date': 637944631111770000}]\n"
     ]
    }
   ],
   "source": [
    "#Defining databse context and query, and other variables\n",
    "CasJobs_TestDatabase = \"MyDB\"\n",
    "CasJobs_TestQuery = \"select 4 as Column1, 5 as Column2 \"\n",
    "CasJobs_TestTableName1 = \"MyNewtable1\"\n",
    "CasJobs_TestTableName2 = \"MyNewtable2\"\n",
    "CasJobs_TestTableCSV = u\"Column1,Column2\\n4,5\\n\"\n",
    "CasJobs_TestFitsFile = \"SciScriptTestFile.fits\"\n",
    "CasJobs_TestCSVFile = \"SciScriptTestFile.csv\"\n",
    "\n",
    "#get user schema info\n",
    "casJobsId = CasJobs.getSchemaName()\n",
    "#print(casJobsId)\n",
    "\n",
    "#get info about tables inside MyDB database context:\n",
    "tables = CasJobs.getTables(context=\"MyDB\")\n",
    "print(tables)\n",
    "\n",
    "#execute a quick SQL query:\n",
    "df = CasJobs.executeQuery(sql=CasJobs_TestQuery, context=CasJobs_TestDatabase, format=\"pandas\")\n",
    "#print(df)\n"
   ]
  },
  {
   "cell_type": "code",
   "execution_count": 40,
   "metadata": {},
   "outputs": [],
   "source": [
    "#submit a job, which inserts the query results into a table in the MyDB database context. \n",
    "#Wait until the job is done and get its status.\n",
    "jobId = CasJobs.submitJob(sql=CasJobs_TestQuery + \" into MyDB.\" + CasJobs_TestTableName1, context=\"MyDB\")\n",
    "jobDescription = CasJobs.waitForJob(jobId=jobId, verbose=False)\n",
    "#print(jobId)\n",
    "#print(jobDescription)"
   ]
  },
  {
   "cell_type": "code",
   "execution_count": 41,
   "metadata": {},
   "outputs": [],
   "source": [
    "#execute a query and write a local Fits file containing the query results:\n",
    "result = CasJobs.writeFitsFileFromQuery(fileName=CasJobs_TestFitsFile, queryString=CasJobs_TestQuery, context=\"MyDB\")\n",
    "#print(result)\n",
    "\n",
    "#get a Pandas dataframe containing the results of a query\n",
    "df = CasJobs.getPandasDataFrameFromQuery(queryString=CasJobs_TestQuery, context=CasJobs_TestDatabase)\n",
    "#print(df)"
   ]
  },
  {
   "cell_type": "markdown",
   "metadata": {},
   "source": [
    "Here is to get an image\n"
   ]
  },
  {
   "cell_type": "code",
   "execution_count": 42,
   "metadata": {},
   "outputs": [],
   "source": [
    "#defining sql query and SDSS data relelease:\n",
    "SkyServer_TestQuery = \"select top 1 specobjid, ra, dec from specobj order by specobjid\"\n",
    "SkyServer_DataRelease = \"DR17\""
   ]
  },
  {
   "cell_type": "markdown",
   "metadata": {},
   "source": [
    "Here is where I input the files"
   ]
  },
  {
   "cell_type": "code",
   "execution_count": 53,
   "metadata": {},
   "outputs": [
    {
     "data": {
      "text/plain": [
       "0        9.41356\n",
       "1        8.03711\n",
       "2        7.47795\n",
       "3       15.70974\n",
       "4        6.09701\n",
       "          ...   \n",
       "1568     4.24299\n",
       "1569    14.58182\n",
       "1570     6.80593\n",
       "1571     9.42611\n",
       "1572    14.50000\n",
       "Name: DEC(deg), Length: 1573, dtype: float64"
      ]
     },
     "execution_count": 53,
     "metadata": {},
     "output_type": "execute_result"
    }
   ],
   "source": [
    "galaxiesFull = pd.read_csv(\"galaxies_full.csv\", sep = ',')  \n",
    "raGalaxies = galaxiesFull[\"RA(deg)\"] #right ascention\n",
    "decGalaxies = galaxiesFull[\"DEC(deg)\"] #decllination\n",
    "#PosErr_Galaxies = galaxiesFull.iloc[:, 4] #position error\n",
    "#PosErr_Galaxies\n",
    "decGalaxies"
   ]
  },
  {
   "cell_type": "code",
   "execution_count": 157,
   "metadata": {},
   "outputs": [
    {
     "data": {
      "text/plain": [
       "<matplotlib.image.AxesImage at 0x1278794c0>"
      ]
     },
     "execution_count": 157,
     "metadata": {},
     "output_type": "execute_result"
    },
    {
     "data": {
      "image/png": "[encoded data removed]",
      "text/plain": [
       "<Figure size 432x288 with 1 Axes>"
      ]
     },
     "metadata": {
      "needs_background": "light"
     },
     "output_type": "display_data"
    }
   ],
   "source": [
    "#get an image cutout\n",
    "i = 700\n",
    " "
   ]
  },
  {
   "cell_type": "code",
   "execution_count": 57,
   "metadata": {},
   "outputs": [
    {
     "name": "stdout",
     "output_type": "stream",
     "text": [
      "                 objid   run  rerun  camcol  field  obj  type          ra  \\\n",
      "0  1237661070318567667  3631    301       5    171  243     3  141.910813   \n",
      "1  1237661070318567669  3631    301       5    171  245     6  141.911262   \n",
      "\n",
      "         dec         u         g         r         i         z     Err_u  \\\n",
      "0  11.620700  17.70442  16.45988  15.92774  15.67661  15.51535  0.081845   \n",
      "1  11.619755  22.60935  22.77543  22.77588  23.23243  22.24078  0.202385   \n",
      "\n",
      "      Err_g     Err_r     Err_i     Err_z  \n",
      "0  0.009427  0.007206  0.011533  0.022483  \n",
      "1  0.150267  0.225606  0.430979  0.480701  \n"
     ]
    }
   ],
   "source": [
    "# do a radial search of objects:\n",
    "#arcmins\n",
    "\n",
    "df = SkyServer.radialSearch(ra=raGalaxies[i], dec=decGalaxies[i], radius=0.1, dataRelease=SkyServer_DataRelease)\n",
    "print(df)"
   ]
  },
  {
   "cell_type": "code",
   "execution_count": 131,
   "metadata": {},
   "outputs": [
    {
     "name": "stdout",
     "output_type": "stream",
     "text": [
      "Help on module SciServer.CasJobs in SciServer:\n",
      "\n",
      "NAME\n",
      "    SciServer.CasJobs\n",
      "\n",
      "CLASSES\n",
      "    builtins.object\n",
      "        Task\n",
      "    \n",
      "    class Task(builtins.object)\n",
      "     |  The class TaskName stores the name of the task that executes the API call.\n",
      "     |  \n",
      "     |  Data descriptors defined here:\n",
      "     |  \n",
      "     |  __dict__\n",
      "     |      dictionary for instance variables (if defined)\n",
      "     |  \n",
      "     |  __weakref__\n",
      "     |      list of weak references to the object (if defined)\n",
      "     |  \n",
      "     |  ----------------------------------------------------------------------\n",
      "     |  Data and other attributes defined here:\n",
      "     |  \n",
      "     |  name = None\n",
      "\n",
      "FUNCTIONS\n",
      "    cancelJob(jobId)\n",
      "        Cancels a job already submitted.\n",
      "        \n",
      "        :param jobId: id of job (integer)\n",
      "        :return: Returns True if the job was canceled successfully.\n",
      "        :raises: Throws an exception if the user is not logged into SciServer (use Authentication.login for that purpose). Throws an exception if the HTTP request to the CasJobs API returns an error.\n",
      "        :example: response = CasJobs.cancelJob(CasJobs.submitJob(\"select 1\"))\n",
      "        \n",
      "        .. seealso:: CasJobs.submitJob, CasJobs.waitForJob.\n",
      "    \n",
      "    executeQuery(sql, context='MyDB', format='pandas')\n",
      "        Executes a synchronous SQL query in a CasJobs database context.\n",
      "        \n",
      "        :param sql: sql query (string)\n",
      "        :param context: database context (string)\n",
      "        :param format: parameter (string) that specifies the return type:\n",
      "        \n",
      "                    'pandas': pandas.DataFrame.\n",
      "        \n",
      "                    'json': a JSON string containing the query results. \n",
      "        \n",
      "                    'dict': a dictionary created from the JSON string containing the query results.\n",
      "        \n",
      "                    'csv': a csv string.\n",
      "        \n",
      "                    'readable': an object of type io.StringIO, which has the .read() method and wraps a csv string that can be passed into pandas.read_csv for example.\n",
      "        \n",
      "                    'StringIO': an object of type io.StringIO, which has the .read() method and wraps a csv string that can be passed into pandas.read_csv for example.\n",
      "        \n",
      "                    'fits': an object of type io.BytesIO, which has the .read() method and wraps the result in fits format.\n",
      "        \n",
      "                    'BytesIO': an object of type io.BytesIO, which has the .read() method and wraps the result in fits format.\n",
      "        \n",
      "        :return: the query result table, in a format defined by the 'format' input parameter.\n",
      "        :raises: Throws an exception if the user is not logged into SciServer (use Authentication.login for that purpose). Throws an exception if the HTTP request to the CasJobs API returns an error. Throws an exception if parameter 'format' is not correctly specified.\n",
      "        :example: table = CasJobs.executeQuery(sql=\"select 1 as foo, 2 as bar\",format=\"pandas\", context=\"MyDB\")\n",
      "        \n",
      "        .. seealso:: CasJobs.submitJob, CasJobs.getTables, SkyServer.sqlSearch\n",
      "    \n",
      "    getJobStatus(jobId)\n",
      "        Shows the status of a job submitted to CasJobs.\n",
      "        \n",
      "        :param jobId: id of job (integer)\n",
      "        :return: Returns a dictionary object containing the job status and related metadata. The \"Status\" field can be equal to 0 (Ready), 1 (Started), 2 (Canceling), 3(Canceled), 4 (Failed) or 5 (Finished). If jobId is the empty string, then returns a list with the statuses of all previous jobs.\n",
      "        :raises: Throws an exception if the user is not logged into SciServer (use Authentication.login for that purpose). Throws an exception if the HTTP request to the CasJobs API returns an error.\n",
      "        :example: status = CasJobs.getJobStatus(CasJobs.submitJob(\"select 1\"))\n",
      "        \n",
      "        .. seealso:: CasJobs.submitJob, CasJobs.waitForJob, CasJobs.cancelJob.\n",
      "    \n",
      "    getNumpyArrayFromQuery(queryString, context='MyDB')\n",
      "        Executes a casjobs query and returns the results table as a Numpy array (http://docs.scipy.org/doc/numpy/).\n",
      "        \n",
      "        :param queryString: sql query (string)\n",
      "        :param context: database context (string)\n",
      "        :return: Returns a Numpy array storing the results table.\n",
      "        :raises: Throws an exception if the user is not logged into SciServer (use Authentication.login for that purpose). Throws an exception if the HTTP request to the CasJobs API returns an error.\n",
      "        :example: array = CasJobs.getNumpyArrayFromQuery(\"select 1 as foo\", context=\"MyDB\")\n",
      "        \n",
      "        .. seealso:: CasJobs.submitJob, CasJobs.getJobStatus, CasJobs.executeQuery, CasJobs.writeFitsFileFromQuery, CasJobs.getPandasDataFrameFromQuery\n",
      "    \n",
      "    getPandasDataFrameFromQuery(queryString, context='MyDB')\n",
      "        Executes a casjobs quick query and returns the result as a pandas dataframe object with an index (http://pandas.pydata.org/pandas-docs/stable/).\n",
      "        \n",
      "        :param queryString: sql query (string)\n",
      "        :param context: database context (string)\n",
      "        :return: Returns a Pandas dataframe containing the results table.\n",
      "        :raises: Throws an exception if the user is not logged into SciServer (use Authentication.login for that purpose). Throws an exception if the HTTP request to the CasJobs API returns an error.\n",
      "        :example: df = CasJobs.getPandasDataFrameFromQuery(\"select 1 as foo\", context=\"MyDB\")\n",
      "        \n",
      "        .. seealso:: CasJobs.submitJob, CasJobs.getJobStatus, CasJobs.executeQuery, CasJobs.writeFitsFileFromQuery, CasJobs.getNumpyArrayFromQuery\n",
      "    \n",
      "    getSchemaName()\n",
      "        Returns the WebServiceID that identifies the schema for a user in MyScratch database with CasJobs.\n",
      "        \n",
      "        :return: WebServiceID of the user (string).\n",
      "        :raises: Throws an exception if the user is not logged into SciServer (use Authentication.login for that purpose). Throws an exception if the HTTP request to the CasJobs API returns an error.\n",
      "        :example: wsid = CasJobs.getSchemaName()\n",
      "        \n",
      "        .. seealso:: CasJobs.getTables.\n",
      "    \n",
      "    getTables(context='MyDB')\n",
      "        Gets the names, size and creation date of all tables in a database context that the user has access to.\n",
      "        \n",
      "        :param context:     database context (string)\n",
      "        :return: The result is a json object with format [{\"Date\":seconds,\"Name\":\"TableName\",\"Rows\":int,\"Size\",int},..]\n",
      "        :raises: Throws an exception if the user is not logged into SciServer (use Authentication.login for that purpose). Throws an exception if the HTTP request to the CasJobs API returns an error.\n",
      "        :example: tables = CasJobs.getTables(\"MyDB\")\n",
      "        \n",
      "        .. seealso:: CasJobs.getSchemaName\n",
      "    \n",
      "    submitJob(sql, context='MyDB')\n",
      "        Submits an asynchronous SQL query to the CasJobs queue.\n",
      "        \n",
      "        :param sql: sql query (string)\n",
      "        :param context:     database context (string)\n",
      "        :return: Returns the CasJobs jobID (integer).\n",
      "        :raises: Throws an exception if the user is not logged into SciServer (use Authentication.login for that purpose). Throws an exception if the HTTP request to the CasJobs API returns an error.\n",
      "        :example: jobid = CasJobs.submitJob(\"select 1 as foo\",\"MyDB\")\n",
      "        \n",
      "        .. seealso:: CasJobs.executeQuery, CasJobs.getJobStatus, CasJobs.waitForJob, CasJobs.cancelJob.\n",
      "    \n",
      "    uploadCSVDataToTable(csvData, tableName, context='MyDB')\n",
      "        Uploads CSV data into a CasJobs table.\n",
      "        \n",
      "        :param csvData: a CSV table in string format.\n",
      "        :param tableName: name of CasJobs table to be created.\n",
      "        :param context: database context (string)\n",
      "        :return: Returns True if the csv data was uploaded successfully.\n",
      "        :raises: Throws an exception if the user is not logged into SciServer (use Authentication.login for that purpose). Throws an exception if the HTTP request to the CasJobs API returns an error.\n",
      "        :example: csv = CasJobs.getPandasDataFrameFromQuery(\"select 1 as foo\", context=\"MyDB\").to_csv().encode(\"utf8\"); response = CasJobs.uploadCSVDataToTable(csv, \"NewTableFromDataFrame\")\n",
      "        \n",
      "        .. seealso:: CasJobs.uploadPandasDataFrameToTable\n",
      "    \n",
      "    uploadPandasDataFrameToTable(dataFrame, tableName, context='MyDB')\n",
      "        Uploads a pandas dataframe object into a CasJobs table. If the dataframe contains a named index, then the index will be uploaded as a column as well.\n",
      "        \n",
      "        :param dataFrame: Pandas data frame containg the data (pandas.core.frame.DataFrame)\n",
      "        :param tableName: name of CasJobs table to be created.\n",
      "        :param context: database context (string)\n",
      "        :return: Returns True if the dataframe was uploaded successfully.\n",
      "        :raises: Throws an exception if the user is not logged into SciServer (use Authentication.login for that purpose). Throws an exception if the HTTP request to the CasJobs API returns an error.\n",
      "        :example: response = CasJobs.uploadPandasDataFrameToTable(CasJobs.getPandasDataFrameFromQuery(\"select 1 as foo\", context=\"MyDB\"), \"NewTableFromDataFrame\")\n",
      "        \n",
      "        .. seealso:: CasJobs.uploadCSVDataToTable\n",
      "    \n",
      "    waitForJob(jobId, verbose=False, pollTime=5)\n",
      "        Queries regularly the job status and waits until the job is completed.\n",
      "        \n",
      "        :param jobId: id of job (integer)\n",
      "        :param verbose: if True, will print \"wait\" messages on the screen while the job is still running. If False, will suppress the printing of messages on the screen.\n",
      "        :param pollTime: idle time interval (integer, in seconds) before querying again for the job status. Minimum value allowed is 5 seconds.\n",
      "        :return: After the job is finished, returns a dictionary object containing the job status and related metadata. The \"Status\" field can be equal to 0 (Ready), 1 (Started), 2 (Canceling), 3(Canceled), 4 (Failed) or 5 (Finished).\n",
      "        :raises: Throws an exception if the user is not logged into SciServer (use Authentication.login for that purpose). Throws an exception if the HTTP request to the CasJobs API returns an error.\n",
      "        :example: CasJobs.waitForJob(CasJobs.submitJob(\"select 1\"))\n",
      "        \n",
      "        .. seealso:: CasJobs.submitJob, CasJobs.getJobStatus, CasJobs.cancelJob.\n",
      "    \n",
      "    writeFitsFileFromQuery(fileName, queryString, context='MyDB')\n",
      "        Executes a quick CasJobs query and writes the result to a local Fits file (http://www.stsci.edu/institute/software_hardware/pyfits).\n",
      "        \n",
      "        :param fileName: path to the local Fits file to be created (string)\n",
      "        :param queryString: sql query (string)\n",
      "        :param context: database context (string)\n",
      "        :return: Returns True if the fits file was created successfully.\n",
      "        :raises: Throws an exception if the user is not logged into SciServer (use Authentication.login for that purpose). Throws an exception if the HTTP request to the CasJobs API returns an error.\n",
      "        :example: CasJobs.writeFitsFileFromQuery(\"/home/user/myFile.fits\",\"select 1 as foo\")\n",
      "        \n",
      "        .. seealso:: CasJobs.submitJob, CasJobs.getJobStatus, CasJobs.executeQuery, CasJobs.getPandasDataFrameFromQuery, CasJobs.getNumpyArrayFromQuery\n",
      "\n",
      "DATA\n",
      "    task = <SciServer.CasJobs.Task object>\n",
      "\n",
      "FILE\n",
      "    /Applications/Xcode.app/Contents/Developer/Library/Frameworks/Python3.framework/Versions/3.8/lib/python3.8/site-packages/SciServer-2.1.0-py3.8.egg/SciServer/CasJobs.py\n",
      "\n",
      "\n"
     ]
    }
   ],
   "source": []
  },
  {
   "cell_type": "code",
   "execution_count": 160,
   "metadata": {},
   "outputs": [
    {
     "name": "stdout",
     "output_type": "stream",
     "text": [
      "Submitting query:\n",
      " select top 10 objid, ra, dec \n",
      "modelMag_g, modelMag_r, modelMag_i, \n",
      "into mydb.mytable\n",
      "from galaxy\n",
      "where clean = 1\n",
      "\n",
      "\n",
      "Job submitted with jobId =  56384152\n",
      "\n",
      "\n",
      "\n",
      "\n",
      "Information about the job:\n",
      "JobID:  56384152\n",
      "Status:  Failed  ( 4 )\n",
      "Target (context being searched):  DR14\n",
      "Message:  Incorrect syntax near the keyword 'from'.\n",
      "Created_Table:  mytable\n",
      "Rows:  None\n",
      "Wait time:  3  seconds\n",
      "Query duration:  0 seconds\n"
     ]
    }
   ],
   "source": [
    "bigtablename = 'mytable'\n",
    "\n",
    "# Example of a longer query: get magnitudes and sizes (Petrosian radii) of one million galaxies\n",
    "verylongquery = 'select top 10 objid, ra, dec \\n'\n",
    "#verylongquery = 'ra 197.614455642896 dec 18.438168853724 \\n'\n",
    "#verylongquery += 'u, g, r, i, z, err_u, err_g, err_r, err_i, err_z, petror90_r \\n'\n",
    "verylongquery += 'modelMag_g, modelMag_r, modelMag_i, \\n'\n",
    "verylongquery += 'into mydb.' + bigtablename + '\\n'\n",
    "verylongquery += 'from galaxy\\n'\n",
    "verylongquery += 'where clean = 1'\n",
    "\n",
    "print('Submitting query:\\n',verylongquery)\n",
    "print('\\n')\n",
    "\n",
    "thisjobid = CasJobs.submitJob(sql=verylongquery, context=\"DR14\")\n",
    "\n",
    "print('Job submitted with jobId = ',thisjobid)\n",
    "print('\\n')\n",
    "\n",
    "waited = CasJobs.waitForJob(jobId=thisjobid)      # waited is a dummy variable; just print wait msg\n",
    "jobDescription = CasJobs.getJobStatus(thisjobid)\n",
    "\n",
    "print('\\n')\n",
    "print('Information about the job:')\n",
    "\n",
    "#pprint(jobDescription)\n",
    "jobDescriber(jobDescription)"
   ]
  },
  {
   "cell_type": "code",
   "execution_count": null,
   "metadata": {},
   "outputs": [],
   "source": []
  },
  {
   "cell_type": "code",
   "execution_count": 104,
   "metadata": {},
   "outputs": [
    {
     "ename": "Exception",
     "evalue": "Error when listing tables in dataset hugetable.\nHttp Response from SkyQuery API returned status code 404:\n{\"restError\":{\"LogEventID\":\"00000000-0000-0000-0000-000000000000\",\"Message\":\"The given key was not present in the dictionary.\",\"StackTrace\":\"   at Jhu.Graywulf.Components.LazyDictionary`2.get_Item(TKey key) in C:\\\\Data\\\\dobos\\\\project\\\\skyquery-all-v1.3\\\\graywulf\\\\dll\\\\Jhu.Graywulf.Components\\\\Components\\\\LazyDictionary.cs:line 140\\u000d\\u000a   at Jhu.Graywulf.Web.Api.V1.SchemaService.GetDatasetInternal(String datasetName) in C:\\\\Data\\\\dobos\\\\project\\\\skyquery-all-v1.3\\\\graywulf\\\\dll\\\\Jhu.Graywulf.Web.Api\\\\Web\\\\Api\\\\V1\\\\Services\\\\SchemaService.cs:line 105\\u000d\\u000a   at Jhu.Graywulf.Web.Api.V1.SchemaService.ListTables(String datasetName) in C:\\\\Data\\\\dobos\\\\project\\\\skyquery-all-v1.3\\\\graywulf\\\\dll\\\\Jhu.Graywulf.Web.Api\\\\Web\\\\Api\\\\V1\\\\Services\\\\SchemaService.cs:line 136\\u000d\\u000a   at SyncInvokeListTables(Object , Object[] , Object[] )\\u000d\\u000a   at System.ServiceModel.Dispatcher.SyncMethodInvoker.Invoke(Object instance, Object[] inputs, Object[]& outputs)\\u000d\\u000a   at Jhu.Graywulf.Web.Services.RestOperationInvoker.Invoke(Object instance, Object[] inputs, Object[]& outputs) in C:\\\\Data\\\\dobos\\\\project\\\\skyquery-all-v1.3\\\\graywulf\\\\dll\\\\Jhu.Graywulf.Web\\\\Web\\\\Services\\\\RestOperationInvoker.cs:line 49\",\"Type\":\"System.Collections.Generic.KeyNotFoundException\"}}",
     "output_type": "error",
     "traceback": [
      "\u001b[0;31m---------------------------------------------------------------------------\u001b[0m",
      "\u001b[0;31mException\u001b[0m                                 Traceback (most recent call last)",
      "\u001b[1;32m/Users/snegussie/Documents/Negussie Research Folder/SDSS/CasJob/Sara/SDSSquery.ipynb Cell 14'\u001b[0m in \u001b[0;36m<cell line: 2>\u001b[0;34m()\u001b[0m\n\u001b[1;32m      <a href='vscode-notebook-cell:/Users/snegussie/Documents/Negussie%20Research%20Folder/SDSS/CasJob/Sara/SDSSquery.ipynb#ch0000024?line=0'>1</a>\u001b[0m \u001b[39m#CasJobs.executeQuery(sql= verylongquery,context='hugetable')\u001b[39;00m\n\u001b[0;32m----> <a href='vscode-notebook-cell:/Users/snegussie/Documents/Negussie%20Research%20Folder/SDSS/CasJob/Sara/SDSSquery.ipynb#ch0000024?line=1'>2</a>\u001b[0m tables \u001b[39m=\u001b[39m SkyQuery\u001b[39m.\u001b[39;49mlistDatasetTables(\u001b[39m\"\u001b[39;49m\u001b[39mhugetable\u001b[39;49m\u001b[39m\"\u001b[39;49m)\n\u001b[1;32m      <a href='vscode-notebook-cell:/Users/snegussie/Documents/Negussie%20Research%20Folder/SDSS/CasJob/Sara/SDSSquery.ipynb#ch0000024?line=3'>4</a>\u001b[0m pprint(tables)\n",
      "File \u001b[0;32m/Applications/Xcode.app/Contents/Developer/Library/Frameworks/Python3.framework/Versions/3.8/lib/python3.8/site-packages/SciServer-2.1.0-py3.8.egg/SciServer/SkyQuery.py:392\u001b[0m, in \u001b[0;36mlistDatasetTables\u001b[0;34m(datasetName)\u001b[0m\n\u001b[1;32m    390\u001b[0m         \u001b[39mreturn\u001b[39;00m(r[\u001b[39m'\u001b[39m\u001b[39mtables\u001b[39m\u001b[39m'\u001b[39m])\n\u001b[1;32m    391\u001b[0m     \u001b[39melse\u001b[39;00m:\n\u001b[0;32m--> 392\u001b[0m         \u001b[39mraise\u001b[39;00m \u001b[39mException\u001b[39;00m(\u001b[39m\"\u001b[39m\u001b[39mError when listing tables in dataset \u001b[39m\u001b[39m\"\u001b[39m \u001b[39m+\u001b[39m \u001b[39mstr\u001b[39m(datasetName) \u001b[39m+\u001b[39m \u001b[39m\"\u001b[39m\u001b[39m.\u001b[39m\u001b[39m\\n\u001b[39;00m\u001b[39mHttp Response from SkyQuery API returned status code \u001b[39m\u001b[39m\"\u001b[39m \u001b[39m+\u001b[39m \u001b[39mstr\u001b[39m(response\u001b[39m.\u001b[39mstatus_code) \u001b[39m+\u001b[39m \u001b[39m\"\u001b[39m\u001b[39m:\u001b[39m\u001b[39m\\n\u001b[39;00m\u001b[39m\"\u001b[39m \u001b[39m+\u001b[39m response\u001b[39m.\u001b[39mcontent\u001b[39m.\u001b[39mdecode());\n\u001b[1;32m    393\u001b[0m \u001b[39melse\u001b[39;00m:\n\u001b[1;32m    394\u001b[0m     \u001b[39mraise\u001b[39;00m \u001b[39mException\u001b[39;00m(\u001b[39m\"\u001b[39m\u001b[39mUser token is not defined. First log into SciServer.\u001b[39m\u001b[39m\"\u001b[39m)\n",
      "\u001b[0;31mException\u001b[0m: Error when listing tables in dataset hugetable.\nHttp Response from SkyQuery API returned status code 404:\n{\"restError\":{\"LogEventID\":\"00000000-0000-0000-0000-000000000000\",\"Message\":\"The given key was not present in the dictionary.\",\"StackTrace\":\"   at Jhu.Graywulf.Components.LazyDictionary`2.get_Item(TKey key) in C:\\\\Data\\\\dobos\\\\project\\\\skyquery-all-v1.3\\\\graywulf\\\\dll\\\\Jhu.Graywulf.Components\\\\Components\\\\LazyDictionary.cs:line 140\\u000d\\u000a   at Jhu.Graywulf.Web.Api.V1.SchemaService.GetDatasetInternal(String datasetName) in C:\\\\Data\\\\dobos\\\\project\\\\skyquery-all-v1.3\\\\graywulf\\\\dll\\\\Jhu.Graywulf.Web.Api\\\\Web\\\\Api\\\\V1\\\\Services\\\\SchemaService.cs:line 105\\u000d\\u000a   at Jhu.Graywulf.Web.Api.V1.SchemaService.ListTables(String datasetName) in C:\\\\Data\\\\dobos\\\\project\\\\skyquery-all-v1.3\\\\graywulf\\\\dll\\\\Jhu.Graywulf.Web.Api\\\\Web\\\\Api\\\\V1\\\\Services\\\\SchemaService.cs:line 136\\u000d\\u000a   at SyncInvokeListTables(Object , Object[] , Object[] )\\u000d\\u000a   at System.ServiceModel.Dispatcher.SyncMethodInvoker.Invoke(Object instance, Object[] inputs, Object[]& outputs)\\u000d\\u000a   at Jhu.Graywulf.Web.Services.RestOperationInvoker.Invoke(Object instance, Object[] inputs, Object[]& outputs) in C:\\\\Data\\\\dobos\\\\project\\\\skyquery-all-v1.3\\\\graywulf\\\\dll\\\\Jhu.Graywulf.Web\\\\Web\\\\Services\\\\RestOperationInvoker.cs:line 49\",\"Type\":\"System.Collections.Generic.KeyNotFoundException\"}}"
     ]
    }
   ],
   "source": [
    "#CasJobs.executeQuery(sql= verylongquery,context='hugetable')\n",
    "# modelMag_g, modelMag_r, modelMag_i , cModelMag_g, cModelMag_r, cModelMag_i, deVMag_g, deVMag_r, deVMag_i, petroMag_g, petroMag_r, petroMag_i, petroRad_g, petroRad_r, petroRad_i\n",
    "tables = SkyQuery.listDatasetTables(\"hugetable\")\n",
    "\n",
    "pprint(tables)"
   ]
  },
  {
   "cell_type": "code",
   "execution_count": 68,
   "metadata": {},
   "outputs": [
    {
     "name": "stdout",
     "output_type": "stream",
     "text": [
      "Imported SciServer modules\n",
      "Imported other needed modules\n",
      "Created functions\n"
     ]
    }
   ],
   "source": [
    "#CasJobs functions\n",
    "\n",
    "import SciServer\n",
    "from SciServer import CasJobs     # Communicate between SciServer Compute and CasJobs\n",
    "print('Imported SciServer modules')\n",
    "\n",
    "import pandas                                # data analysis tools\n",
    "import numpy as np                           # numerical tools\n",
    "from datetime import datetime, timedelta     # date and timestamp tools\n",
    "from pprint import pprint                    # print human-readable output\n",
    "print('Imported other needed modules')\n",
    "\n",
    "\n",
    "# PYTHON CONVENIENCE FUNCTIONS USEFUL FOR WORKING WITH CASJOBS\n",
    "\n",
    "def tables_formatted(tables):   # better formatted printing of a tables dictionary (output of get_tables)\n",
    "# Returns the following information about the tables in your MyDB (as a Python dictionary object):\n",
    "### Size: size of the table (in kB)\n",
    "### Name: the name of the table\n",
    "### Rows: the number of rows the table contains\n",
    "### Date: the date of the table's creation, as the number of 10-microsecond intervals elapsed 1 AD\n",
    "\n",
    "    import pandas\n",
    "    from datetime import datetime\n",
    "    \n",
    "    tables = sorted(tables, key=lambda k: k['Name']) # alphabetize by table name\n",
    "    \n",
    "    for thistable in tables:\n",
    "        print('Table name:\\t',thistable['Name'])\n",
    "        print('Rows:\\t\\t {:,.0f}'.format(thistable['Rows']))\n",
    "        print('Size (kB):\\t {:,.0f} '.format(thistable['Size']))\n",
    "\n",
    "        cjCreateDate = thistable['Date']\n",
    "        createsec = cjCreateDate / 10000000  # Divide by 10 million to get seconds elapsed since 1 AD\n",
    "        firstday = datetime(1, 1, 1, 0, 0)   # Save 1 AD as \"firstday\"\n",
    "        created = firstday + timedelta(seconds=createsec)  # Get calendar date on which table was created     \n",
    "        print('Created time:\\t',created.strftime('%Y-%m-%d %H:%M:%S'))\n",
    "        print('\\n')\n",
    "        \n",
    "\n",
    "def jobDescriber(jobDescription):\n",
    "    # Prints the results of the CasJobs job status functions in a human-readable manner\n",
    "    # Input: the python dictionary returned by getJobStatus(jobId) or waitForJob(jobId)\n",
    "    # Output: prints the dictionary to screen with readable formatting\n",
    "    import pandas\n",
    "    \n",
    "    if (jobDescription[\"Status\"] == 0):\n",
    "        status_word = 'Ready'\n",
    "    elif (jobDescription[\"Status\"] == 1):\n",
    "        status_word = 'Started'\n",
    "    elif (jobDescription[\"Status\"] == 2):\n",
    "        status_word = 'Cancelling'\n",
    "    elif (jobDescription[\"Status\"] == 3):\n",
    "        status_word = 'Cancelled'\n",
    "    elif (jobDescription[\"Status\"] == 4):\n",
    "        status_word = 'Failed'\n",
    "    elif (jobDescription[\"Status\"] == 5):\n",
    "        status_word = 'Finished'\n",
    "    else:\n",
    "        status_word = 'Status not found!!!!!!!!!'\n",
    "\n",
    "    print('JobID: ', jobDescription['JobID'])\n",
    "    print('Status: ', status_word, ' (', jobDescription[\"Status\"],')')\n",
    "    print('Target (context being searched): ', jobDescription['Target'])\n",
    "    print('Message: ', jobDescription['Message'])\n",
    "    print('Created_Table: ', jobDescription['Created_Table'])\n",
    "    print('Rows: ', jobDescription['Rows'])\n",
    "    wait = pandas.to_datetime(jobDescription['TimeStart']) - pandas.to_datetime(jobDescription['TimeSubmit'])\n",
    "    duration = pandas.to_datetime(jobDescription['TimeEnd']) - pandas.to_datetime(jobDescription['TimeStart'])\n",
    "    print('Wait time: ',wait.seconds,' seconds')\n",
    "    print('Query duration: ',duration.seconds, 'seconds')\n",
    "        \n",
    "print('Created functions')"
   ]
  },
  {
   "cell_type": "code",
   "execution_count": null,
   "metadata": {},
   "outputs": [],
   "source": []
  },
  {
   "cell_type": "code",
   "execution_count": 70,
   "metadata": {},
   "outputs": [
    {
     "ename": "NameError",
     "evalue": "name 'hugetable' is not defined",
     "output_type": "error",
     "traceback": [
      "\u001b[0;31m---------------------------------------------------------------------------\u001b[0m",
      "\u001b[0;31mNameError\u001b[0m                                 Traceback (most recent call last)",
      "\u001b[1;32m/Users/snegussie/Documents/Negussie Research Folder/SDSS/CasJob/Sara/SDSSquery.ipynb Cell 15'\u001b[0m in \u001b[0;36m<cell line: 1>\u001b[0;34m()\u001b[0m\n\u001b[0;32m----> <a href='vscode-notebook-cell:/Users/snegussie/Documents/Negussie%20Research%20Folder/SDSS/CasJob/Sara/SDSSquery.ipynb#ch0000019?line=0'>1</a>\u001b[0m tables_formatted(hugetable)\n",
      "\u001b[0;31mNameError\u001b[0m: name 'hugetable' is not defined"
     ]
    }
   ],
   "source": []
  },
  {
   "cell_type": "code",
   "execution_count": 98,
   "metadata": {},
   "outputs": [
    {
     "data": {
      "text/plain": [
       "'ra=179.689293, dec=-0.454379 \\nmodelMag_g, modelMag_r, modelMag_i, cModelMag_g, cModelMag_r, cModelMag_i, deVMag_g, deVMag_r, deVMag_i, petroMag_g, petroMag_r, petroMag_i, petroRad_g, petroRad_r, petroRad_i \\ninto mydb.hugetable\\nfrom galaxy\\nwhere clean = 1'"
      ]
     },
     "execution_count": 98,
     "metadata": {},
     "output_type": "execute_result"
    }
   ],
   "source": [
    "jobDescription[\"Query\"]"
   ]
  },
  {
   "cell_type": "code",
   "execution_count": 100,
   "metadata": {},
   "outputs": [
    {
     "name": "stdout",
     "output_type": "stream",
     "text": [
      "Tables in MyDB:\n",
      "\n",
      "Table name:\t MyNewtable1\n",
      "Rows:\t\t 1\n",
      "Size (kB):\t 72 \n",
      "Created time:\t 2022-07-22 12:59:05\n",
      "\n",
      "\n",
      "Table name:\t QuickResults\n",
      "Rows:\t\t 2\n",
      "Size (kB):\t 136 \n",
      "Created time:\t 2022-07-21 15:32:27\n",
      "\n",
      "\n"
     ]
    }
   ],
   "source": [
    "this_context = \"MyDB\"    # Your MyDB\n",
    "#this_context = 'dr14'   # SDSS Data Release 14\n",
    "\n",
    "tables = CasJobs.getTables(context=this_context)\n",
    "print('Tables in '+this_context+':\\n')\n",
    "\n",
    "\n",
    "#pprint(tables)   # Standard human-readable printing using Python's pprint module\n",
    "tables_formatted(tables)  # Sorting and better printing using a convenience function"
   ]
  },
  {
   "cell_type": "code",
   "execution_count": 132,
   "metadata": {},
   "outputs": [
    {
     "ename": "Exception",
     "evalue": "Error when getting info from dataset hugetable.\nHttp Response from SkyQuery API returned status code 500:\n{\"restError\":{\"LogEventID\":\"00000000-0000-0000-0000-000000000000\",\"Message\":\"Access is denied.\",\"StackTrace\":\"   at System.ServiceModel.Dispatcher.SyncMethodInvoker.Invoke(Object instance, Object[] inputs, Object[]& outputs)\\u000d\\u000a   at Jhu.Graywulf.Web.Services.RestOperationInvoker.Invoke(Object instance, Object[] inputs, Object[]& outputs) in C:\\\\Data\\\\dobos\\\\project\\\\skyquery-all-v1.3\\\\graywulf\\\\dll\\\\Jhu.Graywulf.Web\\\\Web\\\\Services\\\\RestOperationInvoker.cs:line 49\",\"Type\":\"System.ServiceModel.FaultException\"}}",
     "output_type": "error",
     "traceback": [
      "\u001b[0;31m---------------------------------------------------------------------------\u001b[0m",
      "\u001b[0;31mException\u001b[0m                                 Traceback (most recent call last)",
      "\u001b[1;32m/Users/snegussie/Documents/Negussie Research Folder/SDSS/CasJob/Sara/SDSSquery.ipynb Cell 21'\u001b[0m in \u001b[0;36m<cell line: 1>\u001b[0;34m()\u001b[0m\n\u001b[0;32m----> <a href='vscode-notebook-cell:/Users/snegussie/Documents/Negussie%20Research%20Folder/SDSS/CasJob/Sara/SDSSquery.ipynb#ch0000022?line=0'>1</a>\u001b[0m info \u001b[39m=\u001b[39m SkyQuery\u001b[39m.\u001b[39;49mgetDatasetInfo(\u001b[39m\"\u001b[39;49m\u001b[39mhugetable\u001b[39;49m\u001b[39m\"\u001b[39;49m)\n\u001b[1;32m      <a href='vscode-notebook-cell:/Users/snegussie/Documents/Negussie%20Research%20Folder/SDSS/CasJob/Sara/SDSSquery.ipynb#ch0000022?line=1'>2</a>\u001b[0m \u001b[39mprint\u001b[39m(info)\n",
      "File \u001b[0;32m/Applications/Xcode.app/Contents/Developer/Library/Frameworks/Python3.framework/Versions/3.8/lib/python3.8/site-packages/SciServer-2.1.0-py3.8.egg/SciServer/SkyQuery.py:356\u001b[0m, in \u001b[0;36mgetDatasetInfo\u001b[0;34m(datasetName)\u001b[0m\n\u001b[1;32m    354\u001b[0m         \u001b[39mreturn\u001b[39;00m(response\u001b[39m.\u001b[39mjson())\n\u001b[1;32m    355\u001b[0m     \u001b[39melse\u001b[39;00m:\n\u001b[0;32m--> 356\u001b[0m         \u001b[39mraise\u001b[39;00m \u001b[39mException\u001b[39;00m(\u001b[39m\"\u001b[39m\u001b[39mError when getting info from dataset \u001b[39m\u001b[39m\"\u001b[39m \u001b[39m+\u001b[39m \u001b[39mstr\u001b[39m(datasetName) \u001b[39m+\u001b[39m \u001b[39m\"\u001b[39m\u001b[39m.\u001b[39m\u001b[39m\\n\u001b[39;00m\u001b[39mHttp Response from SkyQuery API returned status code \u001b[39m\u001b[39m\"\u001b[39m \u001b[39m+\u001b[39m \u001b[39mstr\u001b[39m(response\u001b[39m.\u001b[39mstatus_code) \u001b[39m+\u001b[39m \u001b[39m\"\u001b[39m\u001b[39m:\u001b[39m\u001b[39m\\n\u001b[39;00m\u001b[39m\"\u001b[39m \u001b[39m+\u001b[39m response\u001b[39m.\u001b[39mcontent\u001b[39m.\u001b[39mdecode());\n\u001b[1;32m    357\u001b[0m \u001b[39melse\u001b[39;00m:\n\u001b[1;32m    358\u001b[0m     \u001b[39mraise\u001b[39;00m \u001b[39mException\u001b[39;00m(\u001b[39m\"\u001b[39m\u001b[39mUser token is not defined. First log into SciServer.\u001b[39m\u001b[39m\"\u001b[39m)\n",
      "\u001b[0;31mException\u001b[0m: Error when getting info from dataset hugetable.\nHttp Response from SkyQuery API returned status code 500:\n{\"restError\":{\"LogEventID\":\"00000000-0000-0000-0000-000000000000\",\"Message\":\"Access is denied.\",\"StackTrace\":\"   at System.ServiceModel.Dispatcher.SyncMethodInvoker.Invoke(Object instance, Object[] inputs, Object[]& outputs)\\u000d\\u000a   at Jhu.Graywulf.Web.Services.RestOperationInvoker.Invoke(Object instance, Object[] inputs, Object[]& outputs) in C:\\\\Data\\\\dobos\\\\project\\\\skyquery-all-v1.3\\\\graywulf\\\\dll\\\\Jhu.Graywulf.Web\\\\Web\\\\Services\\\\RestOperationInvoker.cs:line 49\",\"Type\":\"System.ServiceModel.FaultException\"}}"
     ]
    }
   ],
   "source": [
    "info = SkyQuery.getDatasetInfo(\"hugetable\")\n",
    "print(info)"
   ]
  },
  {
   "cell_type": "code",
   "execution_count": 151,
   "metadata": {},
   "outputs": [
    {
     "ename": "TypeError",
     "evalue": "objectSearch() got an unexpected keyword argument 'query'",
     "output_type": "error",
     "traceback": [
      "\u001b[0;31m---------------------------------------------------------------------------\u001b[0m",
      "\u001b[0;31mTypeError\u001b[0m                                 Traceback (most recent call last)",
      "\u001b[1;32m/Users/snegussie/Documents/Negussie Research Folder/SDSS/CasJob/Sara/SDSSquery.ipynb Cell 22'\u001b[0m in \u001b[0;36m<cell line: 1>\u001b[0;34m()\u001b[0m\n\u001b[0;32m----> <a href='vscode-notebook-cell:/Users/snegussie/Documents/Negussie%20Research%20Folder/SDSS/CasJob/Sara/SDSSquery.ipynb#ch0000026?line=0'>1</a>\u001b[0m \u001b[39mobject\u001b[39m \u001b[39m=\u001b[39m SkyServer\u001b[39m.\u001b[39;49mobjectSearch(ra\u001b[39m=\u001b[39;49m\u001b[39m258.25\u001b[39;49m, dec\u001b[39m=\u001b[39;49m\u001b[39m64.05\u001b[39;49m, dataRelease\u001b[39m=\u001b[39;49m\u001b[39m\"\u001b[39;49m\u001b[39mDR17\u001b[39;49m\u001b[39m\"\u001b[39;49m, query \u001b[39m=\u001b[39;49m \u001b[39m'\u001b[39;49m\u001b[39mr, i \u001b[39;49m\u001b[39m'\u001b[39;49m)\n",
      "\u001b[0;31mTypeError\u001b[0m: objectSearch() got an unexpected keyword argument 'query'"
     ]
    }
   ],
   "source": [
    "object = SkyServer.objectSearch(ra=258.25, dec=64.05, dataRelease=\"DR17\", query = 'r, i ')\n"
   ]
  },
  {
   "cell_type": "code",
   "execution_count": 152,
   "metadata": {},
   "outputs": [
    {
     "name": "stdout",
     "output_type": "stream",
     "text": [
      "Help on function objectSearch in module SciServer.SkyServer:\n",
      "\n",
      "objectSearch(objId=None, specObjId=None, apogee_id=None, apstar_id=None, ra=None, dec=None, plate=None, mjd=None, fiber=None, run=None, rerun=None, camcol=None, field=None, obj=None, dataRelease=None)\n",
      "    Gets the properties of the the object that is being searched for. Search parameters:\n",
      "    \n",
      "    \n",
      "    :param objId: SDSS ObjId.\n",
      "    \n",
      "    :param specObjId: SDSS SpecObjId.\n",
      "    \n",
      "    :param apogee_id: ID idetifying Apogee target object.\n",
      "    \n",
      "    :param apstar_id: unique ID for combined apogee star spectrum.\n",
      "    \n",
      "    :param ra: right ascention.\n",
      "    \n",
      "    :param dec: declination.\n",
      "    \n",
      "    :param plate: SDSS plate number.\n",
      "    \n",
      "    :param mjd: Modified Julian Date of observation.\n",
      "    \n",
      "    :param fiber: SDSS fiber number.\n",
      "    \n",
      "    :param run: SDSS run number.\n",
      "    \n",
      "    :param rerun: SDSS rerun number.\n",
      "    \n",
      "    :param camcol: SDSS camera column.\n",
      "    \n",
      "    :param field: SDSS field number.\n",
      "    \n",
      "    :param obj: The object id within a field.\n",
      "    \n",
      "    :param dataRelease: SDSS data release string. Example: dataRelease='DR13'. Default value already set in SciServer.Config.DataRelease\n",
      "    :return: Returns a list containing the properties and metadata of the astronomical object found.\n",
      "    :raises: Throws an exception if the HTTP request to the SkyServer API returns an error.\n",
      "    :example: object = SkyServer.objectSearch(ra=258.25, dec=64.05)\n",
      "    \n",
      "    .. seealso:: SkyServer.sqlSearch, SkyServer.rectangularSearch, SkyServer.radialSearch.\n",
      "\n"
     ]
    }
   ],
   "source": [
    "help(SkyServer.objectSearch)"
   ]
  },
  {
   "cell_type": "code",
   "execution_count": 156,
   "metadata": {},
   "outputs": [],
   "source": [
    "params = {\n",
    "    \n",
    "    \"modelMag_g, modelMag_r, modelMag_i,cModelMag_g, cModelMag_r, cModelMag_i, petroMag_g, petroMag_r, petroMag_i, petroRad_g, petroRad_r, petroRad_i\"\n",
    "\n",
    "}"
   ]
  },
  {
   "cell_type": "code",
   "execution_count": 158,
   "metadata": {},
   "outputs": [
    {
     "ename": "TypeError",
     "evalue": "getNumpyArrayFromQuery() got an unexpected keyword argument 'ra'",
     "output_type": "error",
     "traceback": [
      "\u001b[0;31m---------------------------------------------------------------------------\u001b[0m",
      "\u001b[0;31mTypeError\u001b[0m                                 Traceback (most recent call last)",
      "\u001b[1;32m/Users/snegussie/Documents/Negussie Research Folder/SDSS/CasJob/Sara/SDSSquery.ipynb Cell 25'\u001b[0m in \u001b[0;36m<cell line: 1>\u001b[0;34m()\u001b[0m\n\u001b[0;32m----> <a href='vscode-notebook-cell:/Users/snegussie/Documents/Negussie%20Research%20Folder/SDSS/CasJob/Sara/SDSSquery.ipynb#ch0000029?line=0'>1</a>\u001b[0m SciServer\u001b[39m.\u001b[39;49mCasJobs\u001b[39m.\u001b[39;49mgetNumpyArrayFromQuery(ra\u001b[39m=\u001b[39;49mraGalaxies[i], dec\u001b[39m=\u001b[39;49mdecGalaxies[i],queryString\u001b[39m=\u001b[39;49m params, context\u001b[39m=\u001b[39;49m\u001b[39m'\u001b[39;49m\u001b[39mMyDB\u001b[39;49m\u001b[39m'\u001b[39;49m)\n",
      "\u001b[0;31mTypeError\u001b[0m: getNumpyArrayFromQuery() got an unexpected keyword argument 'ra'"
     ]
    }
   ],
   "source": [
    "SciServer.CasJobs.getNumpyArrayFromQuery(ra=raGalaxies[i], dec=decGalaxies[i],queryString= params, context='MyDB')\n",
    "\n"
   ]
  },
  {
   "cell_type": "code",
   "execution_count": 161,
   "metadata": {},
   "outputs": [
    {
     "name": "stdout",
     "output_type": "stream",
     "text": [
      "Submitting query:\n",
      " select top 1000000 objid, ra, dec \n",
      "u, g, r, i, z, err_u, err_g, err_r, err_i, err_z, petror90_r \n",
      "into mydb.hugetable\n",
      "from galaxy\n",
      "where clean = 1\n",
      "\n",
      "\n",
      "Job submitted with jobId =  56384164\n",
      "\n",
      "\n",
      "\n",
      "\n",
      "Information about the job:\n",
      "JobID:  56384164\n",
      "Status:  Failed  ( 4 )\n",
      "Target (context being searched):  DR14\n",
      "Message:  There is already an object named 'hugetable' in the database.\n",
      "Created_Table:  None\n",
      "Rows:  None\n",
      "Wait time:  5  seconds\n",
      "Query duration:  0 seconds\n"
     ]
    }
   ],
   "source": [
    "bigtablename = 'hugetable'\n",
    "\n",
    "# Example of a longer query: get magnitudes and sizes (Petrosian radii) of one million galaxies\n",
    "verylongquery = 'select top 1000000 objid, ra, dec \\n'\n",
    "verylongquery += 'u, g, r, i, z, err_u, err_g, err_r, err_i, err_z, petror90_r \\n'\n",
    "verylongquery += 'into mydb.' + bigtablename + '\\n'\n",
    "verylongquery += 'from galaxy\\n'\n",
    "verylongquery += 'where clean = 1'\n",
    "\n",
    "print('Submitting query:\\n',verylongquery)\n",
    "print('\\n')\n",
    "\n",
    "thisjobid = CasJobs.submitJob(sql=verylongquery, context=\"DR14\")\n",
    "\n",
    "print('Job submitted with jobId = ',thisjobid)\n",
    "print('\\n')\n",
    "\n",
    "waited = CasJobs.waitForJob(jobId=thisjobid)      # waited is a dummy variable; just print wait msg\n",
    "jobDescription = CasJobs.getJobStatus(thisjobid)\n",
    "\n",
    "print('\\n')\n",
    "print('Information about the job:')\n",
    "\n",
    "#pprint(jobDescription)\n",
    "jobDescriber(jobDescription)"
   ]
  },
  {
   "cell_type": "code",
   "execution_count": 163,
   "metadata": {},
   "outputs": [
    {
     "ename": "Exception",
     "evalue": "Error when getting the public URL of SciDrive file hugetable.\nHttp Response from SciDrive API returned status code 404:\n{\n  \"error\" : \"/hugetable\"\n}",
     "output_type": "error",
     "traceback": [
      "\u001b[0;31m---------------------------------------------------------------------------\u001b[0m",
      "\u001b[0;31mException\u001b[0m                                 Traceback (most recent call last)",
      "\u001b[1;32m/Users/snegussie/Documents/Negussie Research Folder/SDSS/CasJob/Sara/SDSSquery.ipynb Cell 27'\u001b[0m in \u001b[0;36m<cell line: 1>\u001b[0;34m()\u001b[0m\n\u001b[0;32m----> <a href='vscode-notebook-cell:/Users/snegussie/Documents/Negussie%20Research%20Folder/SDSS/CasJob/Sara/SDSSquery.ipynb#ch0000031?line=0'>1</a>\u001b[0m tables \u001b[39m=\u001b[39m SciServer\u001b[39m.\u001b[39;49mSciDrive\u001b[39m.\u001b[39;49mdownload(\u001b[39m\"\u001b[39;49m\u001b[39mhugetable\u001b[39;49m\u001b[39m\"\u001b[39;49m)\n",
      "File \u001b[0;32m/Applications/Xcode.app/Contents/Developer/Library/Frameworks/Python3.framework/Versions/3.8/lib/python3.8/site-packages/SciServer-2.1.0-py3.8.egg/SciServer/SciDrive.py:190\u001b[0m, in \u001b[0;36mdownload\u001b[0;34m(path, format, localFilePath)\u001b[0m\n\u001b[1;32m    187\u001b[0m \u001b[39melse\u001b[39;00m:\n\u001b[1;32m    188\u001b[0m     task\u001b[39m.\u001b[39mname \u001b[39m=\u001b[39m \u001b[39m\"\u001b[39m\u001b[39mSciScript-Python.SciDrive.download\u001b[39m\u001b[39m\"\u001b[39m\n\u001b[0;32m--> 190\u001b[0m fileUrl \u001b[39m=\u001b[39m publicUrl(path)\n\u001b[1;32m    191\u001b[0m res \u001b[39m=\u001b[39m requests\u001b[39m.\u001b[39mget(fileUrl, stream\u001b[39m=\u001b[39m\u001b[39mTrue\u001b[39;00m)\n\u001b[1;32m    192\u001b[0m \u001b[39mif\u001b[39;00m res\u001b[39m.\u001b[39mstatus_code \u001b[39m!=\u001b[39m \u001b[39m200\u001b[39m:\n",
      "File \u001b[0;32m/Applications/Xcode.app/Contents/Developer/Library/Frameworks/Python3.framework/Versions/3.8/lib/python3.8/site-packages/SciServer-2.1.0-py3.8.egg/SciServer/SciDrive.py:124\u001b[0m, in \u001b[0;36mpublicUrl\u001b[0;34m(path)\u001b[0m\n\u001b[1;32m    122\u001b[0m res \u001b[39m=\u001b[39m requests\u001b[39m.\u001b[39mget(url, headers\u001b[39m=\u001b[39mheaders)\n\u001b[1;32m    123\u001b[0m \u001b[39mif\u001b[39;00m res\u001b[39m.\u001b[39mstatus_code \u001b[39m!=\u001b[39m \u001b[39m200\u001b[39m:\n\u001b[0;32m--> 124\u001b[0m     \u001b[39mraise\u001b[39;00m \u001b[39mException\u001b[39;00m(\u001b[39m\"\u001b[39m\u001b[39mError when getting the public URL of SciDrive file \u001b[39m\u001b[39m\"\u001b[39m \u001b[39m+\u001b[39m \u001b[39mstr\u001b[39m(path) \u001b[39m+\u001b[39m \u001b[39m\"\u001b[39m\u001b[39m.\u001b[39m\u001b[39m\\n\u001b[39;00m\u001b[39mHttp Response from SciDrive API returned status code \u001b[39m\u001b[39m\"\u001b[39m \u001b[39m+\u001b[39m \u001b[39mstr\u001b[39m(res\u001b[39m.\u001b[39mstatus_code) \u001b[39m+\u001b[39m \u001b[39m\"\u001b[39m\u001b[39m:\u001b[39m\u001b[39m\\n\u001b[39;00m\u001b[39m\"\u001b[39m \u001b[39m+\u001b[39m res\u001b[39m.\u001b[39mcontent\u001b[39m.\u001b[39mdecode());\n\u001b[1;32m    126\u001b[0m jsonRes \u001b[39m=\u001b[39m json\u001b[39m.\u001b[39mloads(res\u001b[39m.\u001b[39mcontent\u001b[39m.\u001b[39mdecode())\n\u001b[1;32m    127\u001b[0m fileUrl \u001b[39m=\u001b[39m jsonRes[\u001b[39m\"\u001b[39m\u001b[39murl\u001b[39m\u001b[39m\"\u001b[39m]\n",
      "\u001b[0;31mException\u001b[0m: Error when getting the public URL of SciDrive file hugetable.\nHttp Response from SciDrive API returned status code 404:\n{\n  \"error\" : \"/hugetable\"\n}"
     ]
    }
   ],
   "source": [
    "tables = SciServer.SciDrive.download(\"hugetable\")"
   ]
  },
  {
   "cell_type": "code",
   "execution_count": null,
   "metadata": {},
   "outputs": [],
   "source": []
  }
 ],
 "metadata": {
  "kernelspec": {
   "display_name": "Python 3.8.2 64-bit",
   "language": "python",
   "name": "python3"
  },
  "language_info": {
   "codemirror_mode": {
    "name": "ipython",
    "version": 3
   },
   "file_extension": ".py",
   "mimetype": "text/x-python",
   "name": "python",
   "nbconvert_exporter": "python",
   "pygments_lexer": "ipython3",
   "version": "3.8.2"
  },
  "orig_nbformat": 4,
  "vscode": {
   "interpreter": {
    "hash": "31f2aee4e71d21fbe5cf8b01ff0e069b9275f58929596ceb00d14d90e3e16cd6"
   }
  }
 },
 "nbformat": 4,
 "nbformat_minor": 2
}
